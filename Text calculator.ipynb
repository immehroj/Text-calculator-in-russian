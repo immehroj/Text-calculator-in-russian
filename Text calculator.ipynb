{
 "cells": [
  {
   "cell_type": "code",
   "execution_count": 3,
   "id": "c34f413d",
   "metadata": {
    "scrolled": false
   },
   "outputs": [
    {
     "name": "stdout",
     "output_type": "stream",
     "text": [
      "Это текстовый калькулятор, который поддерживает порядок действий,\n",
      "    скобки, отрицательные числа \n",
      "\n",
      "Введите ваше выражение: один минус один\n",
      "1-1 = 0\n",
      "один минус один = ноль\n"
     ]
    }
   ],
   "source": [
    "digits = { 'ноль': 0,'один': 1,  'два':2,  'три': 3,  'четыре':4,  'пять':5,  'шесть':6,\n",
    "           'семь':7,  'восемь':8,  'девять':9,  'десять':10,\n",
    "           'одиннадцать':11, 'двенадцать':12,  'тринадцать':13,  'четырнадцать':14,\n",
    "           'пятнадцать':15,  'шестнадцать':16,  'семнадцать':17,  'восемнадцать':18,  'девятнадцать':19,\n",
    "           'двадцать':20,  'тридцать':30,  'сорок':40, 'пятьдесят':50,\n",
    "           'шестьдесят':60,  'семьдесят':70,  'восемьдесят':80,  'девяносто':90,\"плюс\": \"+\", \"минус\":\"-\", \"умножить\":\"*\"\n",
    "            ,\"открывается\":\"(\",\"закрывается\":\")\",\n",
    "            \"делить\":\"/\"}\n",
    "\n",
    "digits2 = {0:'ноль', 1:'один',  2:'два', 3: 'три', 4: 'четыре', 5: 'пять', 6: 'шесть',\n",
    "          7: 'семь', 8: 'восемь', 9: 'девять', 10: 'десять',\n",
    "          11: 'одиннадцать', 12: 'двенадцать', 13: 'тринадцать', 14: 'четырнадцать',\n",
    "          15: 'пятнадцать', 16: 'шестнадцать', 17: 'семнадцать', 18: 'восемнадцать', 19: 'девятнадцать',\n",
    "          20 : 'двадцать', 30: 'тридцать', 40: 'сорок', 50: 'пятьдесят',\n",
    "          60: 'шестьдесят', 70: 'семьдесят', 80: 'восемьдесят', 90: 'девяносто', \"-\":\"минус\"}\n",
    "\n",
    "def calc(vod):\n",
    "    \n",
    "    str1 = ''\n",
    "    str2 = ' '\n",
    "    list1 = []   \n",
    "    list2 = []\n",
    "    variable1 = []\n",
    "    variable2 = []\n",
    "    d = vod\n",
    "    vod = vod.split()\n",
    "    \n",
    "    for i in vod:             # убирает все слова 'на' и 'скобка'\n",
    "        if i != 'на':\n",
    "            variable1.append(i)\n",
    "    vod = variable1                              \n",
    "    for i in vod:\n",
    "        if i != 'скобка':\n",
    "            variable2.append(i)\n",
    "    vod = variable2 \n",
    "    \n",
    "\n",
    "    for j in range(0,len(vod)):\n",
    "        list1.append(digits[vod[j]])       # создает список из значений первого словаря\n",
    "    j = 0\n",
    "    while j < len(list1):                   # объеденяет рядом стоящие числа (20,2 => 22)\n",
    "        try:\n",
    "            list1[j] = list1[j]+ list1[j+1]\n",
    "        except:\n",
    "            j += 1\n",
    "        else:\n",
    "            del list1[j+1]\n",
    "    for m in range(len(list1)):        # создает строку из списка\n",
    "        str1 += str(list1[m])\n",
    "    result = eval(str1)\n",
    "    print(str1, '=', result)\n",
    "    if result < 0:                  # создает список из значения result\n",
    "        list2.append('-')\n",
    "    if abs(result) < 20:\n",
    "        list2.append(abs(result))\n",
    "    elif result % 10 == 0:\n",
    "        list2.append(abs(result))\n",
    "    else:\n",
    "        list2.append(abs(result) // 10 * 10)\n",
    "        list2.append(abs(result) % 10)\n",
    "\n",
    "    for k in range(len(list2)):         # переводит список из ключей в значения второго словаря\n",
    "        list2[k] = digits2[list2[k]]\n",
    "    str2 = str2.join(list2)\n",
    "    print('%s = %s' % (d, str2))\n",
    "    \n",
    "\n",
    "print('''Это текстовый калькулятор, который поддерживает порядок действий,\n",
    "    скобки, отрицательные числа ''')\n",
    "print()\n",
    "\n",
    "s = input(\"Введите ваше выражение: \")\n",
    "calc(s)\n",
    "\n"
   ]
  },
  {
   "cell_type": "code",
   "execution_count": null,
   "id": "5e1877ff",
   "metadata": {},
   "outputs": [],
   "source": []
  }
 ],
 "metadata": {
  "kernelspec": {
   "display_name": "Python 3 (ipykernel)",
   "language": "python",
   "name": "python3"
  },
  "language_info": {
   "codemirror_mode": {
    "name": "ipython",
    "version": 3
   },
   "file_extension": ".py",
   "mimetype": "text/x-python",
   "name": "python",
   "nbconvert_exporter": "python",
   "pygments_lexer": "ipython3",
   "version": "3.9.12"
  }
 },
 "nbformat": 4,
 "nbformat_minor": 5
}
